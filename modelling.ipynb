{
 "cells": [
  {
   "cell_type": "code",
   "execution_count": 40,
   "id": "fa1f04ae-13a1-4a75-ab6e-14c6ce6d3066",
   "metadata": {},
   "outputs": [],
   "source": [
    "import pandas as pd\n",
    "import numpy as np\n",
    "import matplotlib.pyplot as plt\n",
    "import seaborn as sns"
   ]
  },
  {
   "cell_type": "code",
   "execution_count": 41,
   "id": "10ee0d54-c1d6-4576-8266-0a8e132c0f4e",
   "metadata": {},
   "outputs": [],
   "source": [
    "df = pd.read_csv(\"./data/gr_final.csv\")\n",
    "df[\"Timestamp\"] = pd.to_datetime(df[\"Timestamp\"], format=\"%Y/%m/%d %H:%M\")\n",
    "df = df.sort_values(\"Timestamp\")\n",
    "\n",
    "other = ['DO_Saturation_percent','DissolvedOxygen_mgL','pH','Conductivity_mScm','Salinity_psu','Temperature_C']"
   ]
  },
  {
   "cell_type": "code",
   "execution_count": 42,
   "id": "cf94769e-3652-469a-860c-b322832bb8ab",
   "metadata": {},
   "outputs": [],
   "source": [
    "from sklearn.pipeline import Pipeline\n",
    "from sklearn.impute import SimpleImputer\n",
    "from sklearn.preprocessing import StandardScaler\n",
    "\n",
    "preproc_pl = Pipeline([\n",
    "    ('imputer', SimpleImputer(strategy='median')),\n",
    "    ('scaler', StandardScaler())\n",
    "    ])\n",
    "\n",
    "from sklearn.model_selection import train_test_split\n",
    "from sklearn.linear_model import LassoCV\n",
    "from sklearn.metrics import mean_squared_error, r2_score"
   ]
  },
  {
   "cell_type": "code",
   "execution_count": 43,
   "id": "604f6df1-e45d-4294-a2d9-42ce05f5abc2",
   "metadata": {},
   "outputs": [
    {
     "data": {
      "text/plain": [
       "(13.611850669073544,\n",
       " 0.6411902734659848,\n",
       " ['Rain_mm',\n",
       "  'DO_Saturation_percent',\n",
       "  'DissolvedOxygen_mgL',\n",
       "  'pH',\n",
       "  'Conductivity_mScm',\n",
       "  'Salinity_psu',\n",
       "  'Temperature_C'])"
      ]
     },
     "execution_count": 43,
     "metadata": {},
     "output_type": "execute_result"
    }
   ],
   "source": [
    "feature_1 = ['Rain_mm'] + other\n",
    "\n",
    "X = df[feature_1]\n",
    "y = df[\"Turbidity_NTU\"]\n",
    "\n",
    "X_train, X_test, y_train, y_test = train_test_split(X, y, test_size=0.2, random_state=42)\n",
    "\n",
    "pipeline = Pipeline([\n",
    "    ('pipeline', preproc_pl),\n",
    "    ('lasso', LassoCV(cv=10, random_state=42,max_iter=20000))\n",
    "])\n",
    "\n",
    "pipeline.fit(X_train, y_train)\n",
    "\n",
    "y_pred = pipeline.predict(X_test)\n",
    "\n",
    "rmse = np.sqrt(mean_squared_error(y_test, y_pred))\n",
    "r2 = r2_score(y_test, y_pred)\n",
    "\n",
    "# 获取非零系数变量名\n",
    "lasso_model = pipeline.named_steps['lasso']\n",
    "nonzero_features = [feature for feature, coef in zip(X.columns, lasso_model.coef_) if coef != 0]\n",
    "\n",
    "(rmse, r2, nonzero_features)"
   ]
  },
  {
   "cell_type": "code",
   "execution_count": 44,
   "id": "52ff618b-2a06-491d-966a-ccaa52df663d",
   "metadata": {},
   "outputs": [
    {
     "data": {
      "text/plain": [
       "(13.375618151248204,\n",
       " 0.6535364274068005,\n",
       " ['DailyRain_mm',\n",
       "  'DO_Saturation_percent',\n",
       "  'DissolvedOxygen_mgL',\n",
       "  'pH',\n",
       "  'Conductivity_mScm',\n",
       "  'Salinity_psu',\n",
       "  'Temperature_C'])"
      ]
     },
     "execution_count": 44,
     "metadata": {},
     "output_type": "execute_result"
    }
   ],
   "source": [
    "feature_2 = ['DailyRain_mm'] + other\n",
    "\n",
    "X = df[feature_2]\n",
    "y = df[\"Turbidity_NTU\"]\n",
    "\n",
    "X_train, X_test, y_train, y_test = train_test_split(X, y, test_size=0.2, random_state=42)\n",
    "\n",
    "pipeline = Pipeline([\n",
    "    ('pipeline', preproc_pl),\n",
    "    ('lasso', LassoCV(cv=10, random_state=42,max_iter=20000))\n",
    "])\n",
    "\n",
    "pipeline.fit(X_train, y_train)\n",
    "\n",
    "y_pred = pipeline.predict(X_test)\n",
    "\n",
    "rmse = np.sqrt(mean_squared_error(y_test, y_pred))\n",
    "r2 = r2_score(y_test, y_pred)\n",
    "\n",
    "# 获取非零系数变量名\n",
    "lasso_model = pipeline.named_steps['lasso']\n",
    "nonzero_features = [feature for feature, coef in zip(X.columns, lasso_model.coef_) if coef != 0]\n",
    "\n",
    "(rmse, r2, nonzero_features)"
   ]
  },
  {
   "cell_type": "code",
   "execution_count": 45,
   "id": "a9a9051b-7027-4196-bce3-4b232c149af5",
   "metadata": {},
   "outputs": [
    {
     "data": {
      "text/plain": [
       "(13.341027577374483,\n",
       " 0.6553260833797401,\n",
       " ['Rain_mm',\n",
       "  'DailyRain_mm',\n",
       "  'DO_Saturation_percent',\n",
       "  'DissolvedOxygen_mgL',\n",
       "  'pH',\n",
       "  'Conductivity_mScm',\n",
       "  'Salinity_psu',\n",
       "  'Temperature_C'])"
      ]
     },
     "execution_count": 45,
     "metadata": {},
     "output_type": "execute_result"
    }
   ],
   "source": [
    "feature_3 = ['Rain_mm','DailyRain_mm'] + other\n",
    "\n",
    "X = df[feature_3]\n",
    "y = df[\"Turbidity_NTU\"]\n",
    "\n",
    "X_train, X_test, y_train, y_test = train_test_split(X, y, test_size=0.2, random_state=42)\n",
    "\n",
    "pipeline = Pipeline([\n",
    "    ('pipeline', preproc_pl),\n",
    "    ('lasso', LassoCV(cv=10, random_state=42,max_iter=20000))\n",
    "])\n",
    "\n",
    "pipeline.fit(X_train, y_train)\n",
    "\n",
    "y_pred = pipeline.predict(X_test)\n",
    "\n",
    "rmse = np.sqrt(mean_squared_error(y_test, y_pred))\n",
    "r2 = r2_score(y_test, y_pred)\n",
    "\n",
    "# 获取非零系数变量名\n",
    "lasso_model = pipeline.named_steps['lasso']\n",
    "nonzero_features = [feature for feature, coef in zip(X.columns, lasso_model.coef_) if coef != 0]\n",
    "\n",
    "(rmse, r2, nonzero_features)"
   ]
  },
  {
   "cell_type": "code",
   "execution_count": 48,
   "id": "7b1ef6b2-4990-4fcf-89c3-54068f4086c1",
   "metadata": {},
   "outputs": [],
   "source": [
    "from sklearn.ensemble import RandomForestRegressor\n",
    "df = pd.read_csv(\"./data/gr_final.csv\")\n",
    "df[\"Timestamp\"] = pd.to_datetime(df[\"Timestamp\"], format=\"%Y/%m/%d %H:%M\")\n",
    "df = df.sort_values(\"Timestamp\")\n",
    "\n",
    "other = ['DissolvedOxygen_mgL','DO_Saturation_percent','pH','Salinity_psu','Conductivity_mScm','Temperature_C']\n",
    "\n",
    "preproc_pl = Pipeline([\n",
    "    ('imputer', SimpleImputer(strategy='median')),\n",
    "    ('scaler', StandardScaler())\n",
    "    ])"
   ]
  },
  {
   "cell_type": "code",
   "execution_count": 50,
   "id": "6bb47634-a928-4e06-b1b7-18e9fea31ab2",
   "metadata": {},
   "outputs": [
    {
     "name": "stdout",
     "output_type": "stream",
     "text": [
      "9.836172486784765 0.812637735302239\n"
     ]
    }
   ],
   "source": [
    "feature_1 = ['Rain_mm'] + other\n",
    "\n",
    "X = df[feature_1]\n",
    "y = df[\"Turbidity_NTU\"]\n",
    "\n",
    "X_train, X_test, y_train, y_test = train_test_split(X, y, test_size=0.2, random_state=42)\n",
    "\n",
    "pipeline = Pipeline([\n",
    "    ('pipeline', preproc_pl),\n",
    "    ('RF', RandomForestRegressor(n_estimators=200, max_depth=6, random_state=42))\n",
    "])\n",
    "\n",
    "pipeline.fit(X_train, y_train)\n",
    "\n",
    "y_pred = pipeline.predict(X_test)\n",
    "\n",
    "rmse = np.sqrt(mean_squared_error(y_test, y_pred))\n",
    "r2 = r2_score(y_test, y_pred)\n",
    "print(rmse,r2)"
   ]
  },
  {
   "cell_type": "code",
   "execution_count": 51,
   "id": "c09b8eea-f318-4648-bec7-1b499a029eee",
   "metadata": {},
   "outputs": [
    {
     "name": "stdout",
     "output_type": "stream",
     "text": [
      "8.517381015380288 0.8595111019388384\n"
     ]
    }
   ],
   "source": [
    "feature_2 = ['DailyRain_mm'] + other\n",
    "\n",
    "X = df[feature_2]\n",
    "y = df[\"Turbidity_NTU\"]\n",
    "\n",
    "X_train, X_test, y_train, y_test = train_test_split(X, y, test_size=0.2, random_state=42)\n",
    "\n",
    "pipeline = Pipeline([\n",
    "    ('pipeline', preproc_pl),\n",
    "    ('RF', RandomForestRegressor(n_estimators=200, max_depth=6, random_state=42))\n",
    "])\n",
    "\n",
    "pipeline.fit(X_train, y_train)\n",
    "\n",
    "y_pred = pipeline.predict(X_test)\n",
    "\n",
    "rmse = np.sqrt(mean_squared_error(y_test, y_pred))\n",
    "r2 = r2_score(y_test, y_pred)\n",
    "print(rmse,r2)"
   ]
  },
  {
   "cell_type": "code",
   "execution_count": 52,
   "id": "2f705461-884c-407a-b247-578c79556d51",
   "metadata": {},
   "outputs": [
    {
     "name": "stdout",
     "output_type": "stream",
     "text": [
      "8.517946931782122 0.8594924324410665\n"
     ]
    }
   ],
   "source": [
    "feature_3 = ['Rain_mm','DailyRain_mm'] + other\n",
    "\n",
    "X = df[feature_3]\n",
    "y = df[\"Turbidity_NTU\"]\n",
    "\n",
    "X_train, X_test, y_train, y_test = train_test_split(X, y, test_size=0.2, random_state=42)\n",
    "\n",
    "pipeline = Pipeline([\n",
    "    ('pipeline', preproc_pl),\n",
    "    ('RF', RandomForestRegressor(n_estimators=200, max_depth=6, random_state=42))\n",
    "])\n",
    "\n",
    "pipeline.fit(X_train, y_train)\n",
    "\n",
    "y_pred = pipeline.predict(X_test)\n",
    "\n",
    "rmse = np.sqrt(mean_squared_error(y_test, y_pred))\n",
    "r2 = r2_score(y_test, y_pred)\n",
    "print(rmse,r2)"
   ]
  },
  {
   "cell_type": "code",
   "execution_count": 46,
   "id": "409e3d7d-4c5d-402e-a90b-26f330bda837",
   "metadata": {},
   "outputs": [],
   "source": [
    "for lag in range(1, 97):\n",
    "    df[f\"Rain_mm_lag_{lag}\"] = df[\"Rain_mm\"].shift(lag)\n",
    "    \n",
    "df = df.dropna()\n",
    "lag_features = [f\"Rain_mm_lag_{lag}\" for lag in range(1,97)]"
   ]
  },
  {
   "cell_type": "code",
   "execution_count": 47,
   "id": "c22687a1-c1ae-483a-997f-9881ef4c45fb",
   "metadata": {},
   "outputs": [
    {
     "data": {
      "image/png": "[encoded data removed]",
      "text/plain": [
       "<Figure size 1200x800 with 1 Axes>"
      ]
     },
     "metadata": {},
     "output_type": "display_data"
    }
   ],
   "source": [
    "correlations = {\n",
    "    f\"lag_{lag}\": df[f\"Rain_mm_lag_{lag}\"].corr(df[\"Turbidity_NTU\"])\n",
    "    for lag in range(1, 97)\n",
    "}\n",
    "\n",
    "plt.figure(figsize=(12, 8))\n",
    "plt.plot(range(1, 97), list(correlations.values()), marker='o')\n",
    "plt.title(\"Correlation between rainfall lag and turbidity (Rain_mm)\")\n",
    "plt.xlabel(\"Lag steps (10 minutes per step)\")\n",
    "plt.ylabel(\"Correlation coefficient\")\n",
    "plt.grid(True)\n",
    "plt.xticks(range(0, 96, 6))\n",
    "plt.tight_layout()\n",
    "plt.show()"
   ]
  },
  {
   "cell_type": "code",
   "execution_count": 59,
   "id": "64d968e8-8295-4b85-9848-91f3e2e98b89",
   "metadata": {},
   "outputs": [],
   "source": [
    "df = pd.read_csv(\"./data/gr_final.csv\")\n",
    "df[\"Timestamp\"] = pd.to_datetime(df[\"Timestamp\"], format=\"%Y/%m/%d %H:%M\")\n",
    "df = df.sort_values(\"Timestamp\")\n",
    "\n",
    "other = ['DissolvedOxygen_mgL','DO_Saturation_percent','pH','Salinity_psu','Conductivity_mScm','Temperature_C']\n",
    "\n",
    "preproc_pl = Pipeline([\n",
    "    ('imputer', SimpleImputer(strategy='median')),\n",
    "    ('scaler', StandardScaler())\n",
    "    ])\n",
    "\n",
    "rf_pl = Pipeline([\n",
    "        ('pipeline', preproc_pl),\n",
    "        ('RF', RandomForestRegressor(n_estimators=200, max_depth=6, random_state=42))\n",
    "    ])"
   ]
  },
  {
   "cell_type": "code",
   "execution_count": 62,
   "id": "d7646e9b-9413-4459-8d5c-5392877d6916",
   "metadata": {},
   "outputs": [
    {
     "name": "stdout",
     "output_type": "stream",
     "text": [
      "    Rain Feature       RMSE  R2 Score\n",
      "0     Rain_0h_1h   9.484453  0.839420\n",
      "1     Rain_1h_2h  10.424615  0.809625\n",
      "2     Rain_2h_3h  10.755216  0.793086\n",
      "3     Rain_3h_4h   9.102772  0.836550\n",
      "4     Rain_4h_5h   9.686029  0.821283\n",
      "5     Rain_5h_6h   9.963295  0.818374\n",
      "6     Rain_6h_7h  10.037148  0.809652\n",
      "7     Rain_7h_8h   9.042103  0.841520\n",
      "8     Rain_8h_9h   9.696362  0.818226\n",
      "9    Rain_9h_10h  11.811222  0.757769\n",
      "10  Rain_10h_11h   9.690609  0.807012\n",
      "11  Rain_11h_12h  11.339257  0.768645\n"
     ]
    }
   ],
   "source": [
    "rain_1h_features = []\n",
    "df_1h = df.copy()\n",
    "\n",
    "for start in range(12):  # 共 12 段：0-1h 到 11-12h\n",
    "    shift_start = start * 6 + 1\n",
    "    shift_end = shift_start + 5  # 每小时6个点\n",
    "    hour_start = start\n",
    "    hour_end = start + 1\n",
    "    col_name = f'Rain_{hour_start}h_{hour_end}h'\n",
    "    df_1h[col_name] = df_1h['Rain_mm'].shift(shift_start).rolling(window=6).sum()\n",
    "    rain_1h_features.append(col_name)\n",
    "\n",
    "# 建模与评估\n",
    "results_1h = []\n",
    "\n",
    "for rain_col in rain_1h_features:\n",
    "    cols = other + [rain_col]\n",
    "    data = df_1h[cols + [target]].dropna()\n",
    "\n",
    "    X = data[cols]\n",
    "    y = data[target]\n",
    "\n",
    "    X_train, X_test, y_train, y_test = train_test_split(\n",
    "        X, y, test_size=0.2, random_state=42)\n",
    "\n",
    "    rf_pl = Pipeline([\n",
    "        ('pipeline', preproc_pl),\n",
    "        ('RF', RandomForestRegressor(n_estimators=200, max_depth=6, random_state=42))\n",
    "    ])\n",
    "\n",
    "    rf_pl.fit(X_train, y_train)\n",
    "    y_pred = rf_pl.predict(X_test)\n",
    "\n",
    "    rmse = np.sqrt(mean_squared_error(y_test, y_pred))\n",
    "    r2 = r2_score(y_test, y_pred)\n",
    "\n",
    "    results_1h.append({\n",
    "        'Rain Feature': rain_col,\n",
    "        'RMSE': rmse,\n",
    "        'R2 Score': r2\n",
    "    })\n",
    "\n",
    "results_1h_df = pd.DataFrame(results_1h)\n",
    "print(results_1h_df)"
   ]
  },
  {
   "cell_type": "code",
   "execution_count": 61,
   "id": "f2cd92c3-e79a-45cf-80ea-a19c3ffef5cc",
   "metadata": {},
   "outputs": [
    {
     "name": "stdout",
     "output_type": "stream",
     "text": [
      "    Rain Feature       RMSE  R2 Score\n",
      "0     Rain_0h_2h  10.046297  0.823192\n",
      "1     Rain_1h_3h  10.581573  0.799713\n",
      "2     Rain_2h_4h   9.217167  0.832416\n",
      "3     Rain_3h_5h   9.791118  0.817384\n",
      "4     Rain_4h_6h   9.201831  0.845075\n",
      "5     Rain_5h_7h   9.827351  0.817526\n",
      "6     Rain_6h_8h   8.716127  0.852740\n",
      "7     Rain_7h_9h   8.859630  0.848244\n",
      "8    Rain_8h_10h  11.336057  0.776867\n",
      "9    Rain_9h_11h   9.559837  0.812185\n",
      "10  Rain_10h_12h  11.231810  0.773009\n"
     ]
    }
   ],
   "source": [
    "rain_2h_features = []\n",
    "df_2h = df.copy()\n",
    "\n",
    "for start in range(0, 11):  # 共11个段\n",
    "    shift_start = start * 6 + 1  # 每小时6个点\n",
    "    hour_start = start\n",
    "    hour_end = start + 2\n",
    "    col_name = f'Rain_{hour_start}h_{hour_end}h'\n",
    "    df_2h[col_name] = df_2h['Rain_mm'].shift(shift_start).rolling(window=12).sum()\n",
    "    rain_2h_features.append(col_name)\n",
    "\n",
    "# 构建模型并评估\n",
    "results_2h = []\n",
    "\n",
    "for rain_col in rain_2h_features:\n",
    "    cols = other + [rain_col]\n",
    "    data = df_2h[cols + [target]].dropna()\n",
    "\n",
    "    X = data[cols]\n",
    "    y = data[target]\n",
    "\n",
    "    X_train, X_test, y_train, y_test = train_test_split(\n",
    "        X, y, test_size=0.2, random_state=42)\n",
    "\n",
    "\n",
    "    rf_pl.fit(X_train, y_train)\n",
    "    y_pred = rf_pl.predict(X_test)\n",
    "\n",
    "    rmse = np.sqrt(mean_squared_error(y_test, y_pred))\n",
    "    r2 = r2_score(y_test, y_pred)\n",
    "\n",
    "    results_2h.append({\n",
    "        'Rain Feature': rain_col,\n",
    "        'RMSE': rmse,\n",
    "        'R2 Score': r2\n",
    "    })\n",
    "\n",
    "results_2h_df = pd.DataFrame(results_2h)\n",
    "print(results_2h_df)"
   ]
  },
  {
   "cell_type": "code",
   "execution_count": 75,
   "id": "f6216e29-8235-4c13-9c92-6bbbedca66f2",
   "metadata": {},
   "outputs": [
    {
     "name": "stdout",
     "output_type": "stream",
     "text": [
      "  Rain Feature       RMSE  R2 Score\n",
      "0   Rain_0h_3h  10.638387  0.797557\n",
      "1   Rain_1h_4h   9.486778  0.822468\n",
      "2   Rain_2h_5h  10.056208  0.807362\n",
      "3   Rain_3h_6h   8.918715  0.854462\n",
      "4   Rain_4h_7h   9.666656  0.823445\n",
      "5   Rain_5h_8h   8.465015  0.861103\n",
      "6   Rain_6h_9h   8.764201  0.851496\n",
      "7  Rain_7h_10h  11.153494  0.783996\n",
      "8  Rain_8h_11h   9.554185  0.812407\n",
      "9  Rain_9h_12h  11.249241  0.772304\n"
     ]
    }
   ],
   "source": [
    "rain_3h_features = []\n",
    "df_3h = df.copy()\n",
    "\n",
    "for start in range(0, 10):  # 共10个段\n",
    "    shift_start = start * 6 + 1  # 每小时6个点\n",
    "    hour_start = start\n",
    "    hour_end = start + 3\n",
    "    col_name = f'Rain_{hour_start}h_{hour_end}h'\n",
    "    df_3h[col_name] = df_3h['Rain_mm'].shift(shift_start).rolling(window=18).sum()\n",
    "    rain_3h_features.append(col_name)\n",
    "\n",
    "results_3h = []\n",
    "\n",
    "for rain_col in rain_3h_features:\n",
    "    cols = other + [rain_col]\n",
    "    data = df_3h[cols + [target]].dropna()\n",
    "\n",
    "    X = data[cols]\n",
    "    y = data[target]\n",
    "\n",
    "    X_train, X_test, y_train, y_test = train_test_split(\n",
    "        X, y, test_size=0.2, random_state=42)\n",
    "\n",
    "\n",
    "    rf_pl.fit(X_train, y_train)\n",
    "    y_pred = rf_pl.predict(X_test)\n",
    "\n",
    "    rmse = np.sqrt(mean_squared_error(y_test, y_pred))\n",
    "    r2 = r2_score(y_test, y_pred)\n",
    "\n",
    "    results_3h.append({\n",
    "        'Rain Feature': rain_col,\n",
    "        'RMSE': rmse,\n",
    "        'R2 Score': r2\n",
    "    })\n",
    "\n",
    "results_3h_df = pd.DataFrame(results_3h)\n",
    "print(results_3h_df)"
   ]
  },
  {
   "cell_type": "code",
   "execution_count": 76,
   "id": "84d04f0f-4b11-48b4-8162-b94a712f3319",
   "metadata": {},
   "outputs": [
    {
     "name": "stdout",
     "output_type": "stream",
     "text": [
      "  Rain Feature       RMSE  R2 Score\n",
      "0   Rain_0h_4h   9.055009  0.838260\n",
      "1   Rain_1h_5h   9.729328  0.819682\n",
      "2   Rain_2h_6h   8.717028  0.860970\n",
      "3   Rain_3h_7h   9.682641  0.822861\n",
      "4   Rain_4h_8h   8.427822  0.862321\n",
      "5   Rain_5h_9h   8.267035  0.867866\n",
      "6  Rain_6h_10h  10.440689  0.810723\n",
      "7  Rain_7h_11h   9.037979  0.832131\n",
      "8  Rain_8h_12h  11.214044  0.773726\n"
     ]
    }
   ],
   "source": [
    "rain_4h_features = []\n",
    "df_4h = df.copy()\n",
    "\n",
    "for start in range(0, 9):  # 共10个段\n",
    "    shift_start = start * 6 + 1  # 每小时6个点\n",
    "    hour_start = start\n",
    "    hour_end = start + 4\n",
    "    col_name = f'Rain_{hour_start}h_{hour_end}h'\n",
    "    df_4h[col_name] = df_4h['Rain_mm'].shift(shift_start).rolling(window=24).sum()\n",
    "    rain_4h_features.append(col_name)\n",
    "\n",
    "results_4h = []\n",
    "\n",
    "for rain_col in rain_4h_features:\n",
    "    cols = other + [rain_col]\n",
    "    data = df_4h[cols + [target]].dropna()\n",
    "\n",
    "    X = data[cols]\n",
    "    y = data[target]\n",
    "\n",
    "    X_train, X_test, y_train, y_test = train_test_split(\n",
    "        X, y, test_size=0.2, random_state=42)\n",
    "\n",
    "\n",
    "    rf_pl.fit(X_train, y_train)\n",
    "    y_pred = rf_pl.predict(X_test)\n",
    "\n",
    "    rmse = np.sqrt(mean_squared_error(y_test, y_pred))\n",
    "    r2 = r2_score(y_test, y_pred)\n",
    "\n",
    "    results_4h.append({\n",
    "        'Rain Feature': rain_col,\n",
    "        'RMSE': rmse,\n",
    "        'R2 Score': r2\n",
    "    })\n",
    "\n",
    "results_4h_df = pd.DataFrame(results_4h)\n",
    "print(results_4h_df)"
   ]
  },
  {
   "cell_type": "code",
   "execution_count": 77,
   "id": "6eb742c5-4a62-4836-80d5-c34be5b212a5",
   "metadata": {},
   "outputs": [
    {
     "name": "stdout",
     "output_type": "stream",
     "text": [
      "  Rain Feature       RMSE  R2 Score\n",
      "0   Rain_0h_5h   9.648054  0.822682\n",
      "1   Rain_1h_6h   8.809138  0.858016\n",
      "2   Rain_2h_7h   9.762115  0.819941\n",
      "3   Rain_3h_8h   8.355961  0.864659\n",
      "4   Rain_4h_9h   8.250257  0.868402\n",
      "5  Rain_5h_10h   9.979306  0.827082\n",
      "6  Rain_6h_11h   8.394854  0.855171\n",
      "7  Rain_7h_12h  10.273404  0.810094\n"
     ]
    }
   ],
   "source": [
    "rain_5h_features = []\n",
    "df_5h = df.copy()\n",
    "\n",
    "for start in range(0, 8):  # 共10个段\n",
    "    shift_start = start * 6 + 1  # 每小时6个点\n",
    "    hour_start = start\n",
    "    hour_end = start + 5\n",
    "    col_name = f'Rain_{hour_start}h_{hour_end}h'\n",
    "    df_5h[col_name] = df_5h['Rain_mm'].shift(shift_start).rolling(window=30).sum()\n",
    "    rain_5h_features.append(col_name)\n",
    "\n",
    "results_5h = []\n",
    "\n",
    "for rain_col in rain_5h_features:\n",
    "    cols = other + [rain_col]\n",
    "    data = df_5h[cols + [target]].dropna()\n",
    "\n",
    "    X = data[cols]\n",
    "    y = data[target]\n",
    "\n",
    "    X_train, X_test, y_train, y_test = train_test_split(\n",
    "        X, y, test_size=0.2, random_state=42)\n",
    "\n",
    "\n",
    "    rf_pl.fit(X_train, y_train)\n",
    "    y_pred = rf_pl.predict(X_test)\n",
    "\n",
    "    rmse = np.sqrt(mean_squared_error(y_test, y_pred))\n",
    "    r2 = r2_score(y_test, y_pred)\n",
    "\n",
    "    results_5h.append({\n",
    "        'Rain Feature': rain_col,\n",
    "        'RMSE': rmse,\n",
    "        'R2 Score': r2\n",
    "    })\n",
    "\n",
    "results_5h_df = pd.DataFrame(results_5h)\n",
    "print(results_5h_df)"
   ]
  },
  {
   "cell_type": "code",
   "execution_count": 78,
   "id": "03969cbc-e81a-40c0-83af-e0d3b913f51a",
   "metadata": {},
   "outputs": [
    {
     "name": "stdout",
     "output_type": "stream",
     "text": [
      "  Rain Feature      RMSE  R2 Score\n",
      "0   Rain_0h_6h  9.095273  0.848642\n",
      "1   Rain_1h_7h  9.661553  0.823631\n",
      "2   Rain_2h_8h  8.124973  0.872038\n",
      "3   Rain_3h_9h  8.172608  0.870867\n",
      "4  Rain_4h_10h  9.874204  0.830705\n",
      "5  Rain_5h_11h  8.395633  0.855144\n",
      "6  Rain_6h_12h  9.721666  0.829944\n"
     ]
    }
   ],
   "source": [
    "rain_6h_features = []\n",
    "df_6h = df.copy()\n",
    "\n",
    "for start in range(0, 7):  # 共10个段\n",
    "    shift_start = start * 6 + 1  # 每小时6个点\n",
    "    hour_start = start\n",
    "    hour_end = start + 6\n",
    "    col_name = f'Rain_{hour_start}h_{hour_end}h'\n",
    "    df_6h[col_name] = df_6h['Rain_mm'].shift(shift_start).rolling(window=36).sum()\n",
    "    rain_6h_features.append(col_name)\n",
    "\n",
    "results_6h = []\n",
    "\n",
    "for rain_col in rain_6h_features:\n",
    "    cols = other + [rain_col]\n",
    "    data = df_6h[cols + [target]].dropna()\n",
    "\n",
    "    X = data[cols]\n",
    "    y = data[target]\n",
    "\n",
    "    X_train, X_test, y_train, y_test = train_test_split(\n",
    "        X, y, test_size=0.2, random_state=42)\n",
    "\n",
    "\n",
    "    rf_pl.fit(X_train, y_train)\n",
    "    y_pred = rf_pl.predict(X_test)\n",
    "\n",
    "    rmse = np.sqrt(mean_squared_error(y_test, y_pred))\n",
    "    r2 = r2_score(y_test, y_pred)\n",
    "\n",
    "    results_6h.append({\n",
    "        'Rain Feature': rain_col,\n",
    "        'RMSE': rmse,\n",
    "        'R2 Score': r2\n",
    "    })\n",
    "\n",
    "results_6h_df = pd.DataFrame(results_6h)\n",
    "print(results_6h_df)"
   ]
  },
  {
   "cell_type": "code",
   "execution_count": 79,
   "id": "8dfcd9b8-4cc7-49e4-abed-2febe3dec18e",
   "metadata": {},
   "outputs": [
    {
     "name": "stdout",
     "output_type": "stream",
     "text": [
      "  Rain Feature       RMSE  R2 Score\n",
      "0   Rain_0h_7h   9.453185  0.831157\n",
      "1   Rain_1h_8h   7.882267  0.879569\n",
      "2   Rain_2h_9h   7.884035  0.879826\n",
      "3  Rain_3h_10h  10.100969  0.822840\n",
      "4  Rain_4h_11h   8.272149  0.859374\n",
      "5  Rain_5h_12h   9.584606  0.834705\n"
     ]
    }
   ],
   "source": [
    "rain_7h_features = []\n",
    "df_7h = df.copy()\n",
    "\n",
    "for start in range(0, 6):  # 共10个段\n",
    "    shift_start = start * 6 + 1  # 每小时6个点\n",
    "    hour_start = start\n",
    "    hour_end = start + 7\n",
    "    col_name = f'Rain_{hour_start}h_{hour_end}h'\n",
    "    df_7h[col_name] = df_7h['Rain_mm'].shift(shift_start).rolling(window=42).sum()\n",
    "    rain_7h_features.append(col_name)\n",
    "\n",
    "results_7h = []\n",
    "\n",
    "for rain_col in rain_7h_features:\n",
    "    cols = other + [rain_col]\n",
    "    data = df_7h[cols + [target]].dropna()\n",
    "\n",
    "    X = data[cols]\n",
    "    y = data[target]\n",
    "\n",
    "    X_train, X_test, y_train, y_test = train_test_split(\n",
    "        X, y, test_size=0.2, random_state=42)\n",
    "\n",
    "\n",
    "    rf_pl.fit(X_train, y_train)\n",
    "    y_pred = rf_pl.predict(X_test)\n",
    "\n",
    "    rmse = np.sqrt(mean_squared_error(y_test, y_pred))\n",
    "    r2 = r2_score(y_test, y_pred)\n",
    "\n",
    "    results_7h.append({\n",
    "        'Rain Feature': rain_col,\n",
    "        'RMSE': rmse,\n",
    "        'R2 Score': r2\n",
    "    })\n",
    "\n",
    "results_7h_df = pd.DataFrame(results_7h)\n",
    "print(results_7h_df)"
   ]
  },
  {
   "cell_type": "code",
   "execution_count": 80,
   "id": "980de8bf-ef89-4ed1-98f2-2617926ac74c",
   "metadata": {},
   "outputs": [
    {
     "name": "stdout",
     "output_type": "stream",
     "text": [
      "  Rain Feature      RMSE  R2 Score\n",
      "0   Rain_0h_8h  7.962544  0.877103\n",
      "1   Rain_1h_9h  7.947858  0.877872\n",
      "2  Rain_2h_10h  9.982516  0.826971\n",
      "3  Rain_3h_11h  8.235756  0.860609\n",
      "4  Rain_4h_12h  9.517257  0.837020\n"
     ]
    }
   ],
   "source": [
    "rain_8h_features = []\n",
    "df_8h = df.copy()\n",
    "\n",
    "for start in range(0, 5):  # 共10个段\n",
    "    shift_start = start * 6 + 1  # 每小时6个点\n",
    "    hour_start = start\n",
    "    hour_end = start + 8\n",
    "    col_name = f'Rain_{hour_start}h_{hour_end}h'\n",
    "    df_8h[col_name] = df_8h['Rain_mm'].shift(shift_start).rolling(window=48).sum()\n",
    "    rain_8h_features.append(col_name)\n",
    "\n",
    "results_8h = []\n",
    "\n",
    "for rain_col in rain_8h_features:\n",
    "    cols = other + [rain_col]\n",
    "    data = df_8h[cols + [target]].dropna()\n",
    "\n",
    "    X = data[cols]\n",
    "    y = data[target]\n",
    "\n",
    "    X_train, X_test, y_train, y_test = train_test_split(\n",
    "        X, y, test_size=0.2, random_state=42)\n",
    "\n",
    "\n",
    "    rf_pl.fit(X_train, y_train)\n",
    "    y_pred = rf_pl.predict(X_test)\n",
    "\n",
    "    rmse = np.sqrt(mean_squared_error(y_test, y_pred))\n",
    "    r2 = r2_score(y_test, y_pred)\n",
    "\n",
    "    results_8h.append({\n",
    "        'Rain Feature': rain_col,\n",
    "        'RMSE': rmse,\n",
    "        'R2 Score': r2\n",
    "    })\n",
    "\n",
    "results_8h_df = pd.DataFrame(results_8h)\n",
    "print(results_8h_df)"
   ]
  },
  {
   "cell_type": "code",
   "execution_count": 81,
   "id": "9473a6da-0332-44e7-8661-a913ac0d24ef",
   "metadata": {},
   "outputs": [
    {
     "name": "stdout",
     "output_type": "stream",
     "text": [
      "  Rain Feature      RMSE  R2 Score\n",
      "0   Rain_0h_9h  7.948004  0.877868\n",
      "1  Rain_1h_10h  9.820072  0.832556\n",
      "2  Rain_2h_11h  8.060851  0.866467\n",
      "3  Rain_3h_12h  9.560957  0.835520\n"
     ]
    }
   ],
   "source": [
    "rain_9h_features = []\n",
    "df_9h = df.copy()\n",
    "\n",
    "for start in range(0, 4):  # 共10个段\n",
    "    shift_start = start * 6 + 1  # 每小时6个点\n",
    "    hour_start = start\n",
    "    hour_end = start + 9\n",
    "    col_name = f'Rain_{hour_start}h_{hour_end}h'\n",
    "    df_9h[col_name] = df_9h['Rain_mm'].shift(shift_start).rolling(window=54).sum()\n",
    "    rain_9h_features.append(col_name)\n",
    "\n",
    "results_9h = []\n",
    "\n",
    "for rain_col in rain_9h_features:\n",
    "    cols = other + [rain_col]\n",
    "    data = df_9h[cols + [target]].dropna()\n",
    "\n",
    "    X = data[cols]\n",
    "    y = data[target]\n",
    "\n",
    "    X_train, X_test, y_train, y_test = train_test_split(\n",
    "        X, y, test_size=0.2, random_state=42)\n",
    "\n",
    "\n",
    "    rf_pl.fit(X_train, y_train)\n",
    "    y_pred = rf_pl.predict(X_test)\n",
    "\n",
    "    rmse = np.sqrt(mean_squared_error(y_test, y_pred))\n",
    "    r2 = r2_score(y_test, y_pred)\n",
    "\n",
    "    results_9h.append({\n",
    "        'Rain Feature': rain_col,\n",
    "        'RMSE': rmse,\n",
    "        'R2 Score': r2\n",
    "    })\n",
    "\n",
    "results_9h_df = pd.DataFrame(results_9h)\n",
    "print(results_9h_df)"
   ]
  },
  {
   "cell_type": "code",
   "execution_count": 82,
   "id": "07c90c6d-0acf-4579-b45f-ac038d04bca0",
   "metadata": {},
   "outputs": [
    {
     "name": "stdout",
     "output_type": "stream",
     "text": [
      "  Rain Feature      RMSE  R2 Score\n",
      "0  Rain_0h_10h  9.771275  0.834216\n",
      "1  Rain_1h_11h  8.190304  0.862143\n",
      "2  Rain_2h_12h  9.373472  0.841908\n"
     ]
    }
   ],
   "source": [
    "rain_10h_features = []\n",
    "df_10h = df.copy()\n",
    "\n",
    "for start in range(0, 3):  # 共10个段\n",
    "    shift_start = start * 6 + 1  # 每小时6个点\n",
    "    hour_start = start\n",
    "    hour_end = start + 10\n",
    "    col_name = f'Rain_{hour_start}h_{hour_end}h'\n",
    "    df_10h[col_name] = df_10h['Rain_mm'].shift(shift_start).rolling(window=60).sum()\n",
    "    rain_10h_features.append(col_name)\n",
    "\n",
    "results_10h = []\n",
    "\n",
    "for rain_col in rain_10h_features:\n",
    "    cols = other + [rain_col]\n",
    "    data = df_10h[cols + [target]].dropna()\n",
    "\n",
    "    X = data[cols]\n",
    "    y = data[target]\n",
    "\n",
    "    X_train, X_test, y_train, y_test = train_test_split(\n",
    "        X, y, test_size=0.2, random_state=42)\n",
    "\n",
    "\n",
    "    rf_pl.fit(X_train, y_train)\n",
    "    y_pred = rf_pl.predict(X_test)\n",
    "\n",
    "    rmse = np.sqrt(mean_squared_error(y_test, y_pred))\n",
    "    r2 = r2_score(y_test, y_pred)\n",
    "\n",
    "    results_10h.append({\n",
    "        'Rain Feature': rain_col,\n",
    "        'RMSE': rmse,\n",
    "        'R2 Score': r2\n",
    "    })\n",
    "\n",
    "results_10h_df = pd.DataFrame(results_10h)\n",
    "print(results_10h_df)"
   ]
  },
  {
   "cell_type": "code",
   "execution_count": 83,
   "id": "7f214f4b-7c26-416f-8bd6-84cf0bbc3092",
   "metadata": {},
   "outputs": [
    {
     "name": "stdout",
     "output_type": "stream",
     "text": [
      "  Rain Feature     RMSE  R2 Score\n",
      "0  Rain_0h_11h  8.17810  0.862554\n",
      "1  Rain_1h_12h  9.33254  0.843285\n"
     ]
    }
   ],
   "source": [
    "rain_11h_features = []\n",
    "df_11h = df.copy()\n",
    "\n",
    "for start in range(0, 2):  # 共10个段\n",
    "    shift_start = start * 6 + 1  # 每小时6个点\n",
    "    hour_start = start\n",
    "    hour_end = start + 11\n",
    "    col_name = f'Rain_{hour_start}h_{hour_end}h'\n",
    "    df_11h[col_name] = df_11h['Rain_mm'].shift(shift_start).rolling(window=66).sum()\n",
    "    rain_11h_features.append(col_name)\n",
    "\n",
    "results_11h = []\n",
    "\n",
    "for rain_col in rain_11h_features:\n",
    "    cols = other + [rain_col]\n",
    "    data = df_11h[cols + [target]].dropna()\n",
    "\n",
    "    X = data[cols]\n",
    "    y = data[target]\n",
    "\n",
    "    X_train, X_test, y_train, y_test = train_test_split(\n",
    "        X, y, test_size=0.2, random_state=42)\n",
    "\n",
    "\n",
    "    rf_pl.fit(X_train, y_train)\n",
    "    y_pred = rf_pl.predict(X_test)\n",
    "\n",
    "    rmse = np.sqrt(mean_squared_error(y_test, y_pred))\n",
    "    r2 = r2_score(y_test, y_pred)\n",
    "\n",
    "    results_11h.append({\n",
    "        'Rain Feature': rain_col,\n",
    "        'RMSE': rmse,\n",
    "        'R2 Score': r2\n",
    "    })\n",
    "\n",
    "results_11h_df = pd.DataFrame(results_11h)\n",
    "print(results_11h_df)"
   ]
  },
  {
   "cell_type": "code",
   "execution_count": 84,
   "id": "6dd38f78-074a-40d6-91f2-42ef420cedd9",
   "metadata": {},
   "outputs": [
    {
     "name": "stdout",
     "output_type": "stream",
     "text": [
      "  Rain Feature      RMSE  R2 Score\n",
      "0  Rain_0h_12h  9.372811   0.84193\n"
     ]
    }
   ],
   "source": [
    "rain_12h_features = []\n",
    "df_12h = df.copy()\n",
    "\n",
    "for start in range(0, 1):  # 共10个段\n",
    "    shift_start = start * 6 + 1  # 每小时6个点\n",
    "    hour_start = start\n",
    "    hour_end = start + 12\n",
    "    col_name = f'Rain_{hour_start}h_{hour_end}h'\n",
    "    df_12h[col_name] = df_12h['Rain_mm'].shift(shift_start).rolling(window=72).sum()\n",
    "    rain_12h_features.append(col_name)\n",
    "\n",
    "results_12h = []\n",
    "\n",
    "for rain_col in rain_12h_features:\n",
    "    cols = other + [rain_col]\n",
    "    data = df_12h[cols + [target]].dropna()\n",
    "\n",
    "    X = data[cols]\n",
    "    y = data[target]\n",
    "\n",
    "    X_train, X_test, y_train, y_test = train_test_split(\n",
    "        X, y, test_size=0.2, random_state=42)\n",
    "\n",
    "\n",
    "    rf_pl.fit(X_train, y_train)\n",
    "    y_pred = rf_pl.predict(X_test)\n",
    "\n",
    "    rmse = np.sqrt(mean_squared_error(y_test, y_pred))\n",
    "    r2 = r2_score(y_test, y_pred)\n",
    "\n",
    "    results_12h.append({\n",
    "        'Rain Feature': rain_col,\n",
    "        'RMSE': rmse,\n",
    "        'R2 Score': r2\n",
    "    })\n",
    "\n",
    "results_12h_df = pd.DataFrame(results_12h)\n",
    "print(results_12h_df)"
   ]
  },
  {
   "cell_type": "code",
   "execution_count": 88,
   "id": "e511a192-023e-4f2a-9dc4-47089f5eee30",
   "metadata": {},
   "outputs": [
    {
     "data": {
      "image/png": "[encoded data removed]",
      "text/plain": [
       "<Figure size 1000x600 with 2 Axes>"
      ]
     },
     "metadata": {},
     "output_type": "display_data"
    }
   ],
   "source": [
    "best_1h = results_1h_df.loc[results_1h_df['R2 Score'].idxmax()]\n",
    "best_2h = results_2h_df.loc[results_2h_df['R2 Score'].idxmax()]\n",
    "best_3h = results_3h_df.loc[results_3h_df['R2 Score'].idxmax()]\n",
    "best_4h = results_4h_df.loc[results_4h_df['R2 Score'].idxmax()]\n",
    "best_5h = results_5h_df.loc[results_5h_df['R2 Score'].idxmax()]\n",
    "best_6h = results_6h_df.loc[results_6h_df['R2 Score'].idxmax()]\n",
    "best_7h = results_7h_df.loc[results_7h_df['R2 Score'].idxmax()]\n",
    "best_8h = results_8h_df.loc[results_8h_df['R2 Score'].idxmax()]\n",
    "best_9h = results_9h_df.loc[results_9h_df['R2 Score'].idxmax()]\n",
    "best_10h = results_10h_df.loc[results_10h_df['R2 Score'].idxmax()]\n",
    "best_11h = results_11h_df.loc[results_11h_df['R2 Score'].idxmax()]\n",
    "best_12h = results_12h_df.loc[results_12h_df['R2 Score'].idxmax()]\n",
    "\n",
    "best_models = pd.DataFrame([best_1h, best_2h, best_3h, best_4h,best_5h, best_6h, best_7h, best_8h,best_9h, best_10h, best_11h, best_12h])\n",
    "best_models['Interval'] = ['1h', '2h', '3h', '4h','5h', '6h', '7h', '8h','9h', '10h', '11h', '12h']\n",
    "\n",
    "# 绘图：R2 + RMSE 在同一图中（双y轴）\n",
    "fig, ax1 = plt.subplots(figsize=(10, 6))\n",
    "\n",
    "# R2 Score 柱状图\n",
    "color = 'tab:blue'\n",
    "ax1.set_xlabel('Rainfall Interval')\n",
    "ax1.set_ylabel('R² Score', color=color)\n",
    "ax1.bar(best_models['Interval'], best_models['R2 Score'], color=color, alpha=0.6)\n",
    "ax1.tick_params(axis='y', labelcolor=color)\n",
    "ax1.set_ylim(0.75, 0.90)\n",
    "for i, v in enumerate(best_models['R2 Score']):\n",
    "    ax1.text(i, v + 0.002, f'{v:.3f}', ha='center', color=color)\n",
    "\n",
    "# RMSE 折线图\n",
    "ax2 = ax1.twinx()\n",
    "color = 'tab:red'\n",
    "ax2.set_ylabel('RMSE', color=color)\n",
    "ax2.plot(best_models['Interval'], best_models['RMSE'], color=color, marker='o', linewidth=2)\n",
    "ax2.tick_params(axis='y', labelcolor=color)\n",
    "ax2.set_ylim(6, 11)\n",
    "for i, v in enumerate(best_models['RMSE']):\n",
    "    ax2.text(i, v + 0.1, f'{v:.2f}', ha='center', color=color)\n",
    "\n",
    "plt.title('Best Model Performance by Rainfall Interval')\n",
    "plt.tight_layout()\n",
    "plt.show()"
   ]
  },
  {
   "cell_type": "code",
   "execution_count": 89,
   "id": "cd1b9ec3-d7e4-4151-84ed-83eba5a19219",
   "metadata": {},
   "outputs": [
    {
     "name": "stdout",
     "output_type": "stream",
     "text": [
      "Rain Feature    Rain_2h_9h\n",
      "RMSE              7.884035\n",
      "R2 Score          0.879826\n",
      "Name: 2, dtype: object\n"
     ]
    }
   ],
   "source": [
    "print(best_7h)"
   ]
  },
  {
   "cell_type": "code",
   "execution_count": 93,
   "id": "4937072a-bf32-4578-832f-624c8b194f9a",
   "metadata": {},
   "outputs": [
    {
     "data": {
      "text/plain": [
       "({'RF__max_depth': None,\n",
       "  'RF__min_samples_leaf': 2,\n",
       "  'RF__min_samples_split': 2,\n",
       "  'RF__n_estimators': 300},\n",
       " 0.9074122626464423,\n",
       " 5.810544900593044,\n",
       " 0.9347247928480694)"
      ]
     },
     "execution_count": 93,
     "metadata": {},
     "output_type": "execute_result"
    }
   ],
   "source": [
    "from sklearn.model_selection import GridSearchCV\n",
    "df_tune = df.copy()\n",
    "df_tune['Rain_2h_9h'] = df_tune['Rain_mm'].shift(13).rolling(window=42).sum()\n",
    "\n",
    "selected_features = other + ['Rain_2h_9h']\n",
    "data = df_tune[selected_features + [target]].dropna()\n",
    "X = data[selected_features]\n",
    "y = data[target]\n",
    "\n",
    "X_train, X_test, y_train, y_test = train_test_split(\n",
    "    X, y, test_size=0.2, random_state=42)\n",
    "\n",
    "\n",
    "rf_tune = Pipeline([\n",
    "    ('pipeline', preproc_pl),\n",
    "    ('RF', RandomForestRegressor(random_state=42))\n",
    "])\n",
    "\n",
    "param_grid = {\n",
    "    'RF__n_estimators': [100, 200, 300],\n",
    "    'RF__max_depth': [4, 6, 8, None],\n",
    "    'RF__min_samples_split': [2, 5],\n",
    "    'RF__min_samples_leaf': [1, 2]\n",
    "}\n",
    "\n",
    "grid_search = GridSearchCV(rf_tune, param_grid, cv=5, scoring='r2', n_jobs=-1)\n",
    "grid_search.fit(X_train, y_train)\n",
    "\n",
    "best_params = grid_search.best_params_\n",
    "best_score = grid_search.best_score_\n",
    "best_model = grid_search.best_estimator_\n",
    "\n",
    "y_pred = best_model.predict(X_test)\n",
    "rmse_test = np.sqrt(mean_squared_error(y_test, y_pred))\n",
    "r2_test = r2_score(y_test, y_pred)\n",
    "\n",
    "(best_params, best_score, rmse_test, r2_test)"
   ]
  },
  {
   "cell_type": "code",
   "execution_count": null,
   "id": "7168d427-9c07-466f-a643-0f2241da1476",
   "metadata": {},
   "outputs": [],
   "source": []
  }
 ],
 "metadata": {
  "kernelspec": {
   "display_name": "Python 3 (ipykernel)",
   "language": "python",
   "name": "python3"
  },
  "language_info": {
   "codemirror_mode": {
    "name": "ipython",
    "version": 3
   },
   "file_extension": ".py",
   "mimetype": "text/x-python",
   "name": "python",
   "nbconvert_exporter": "python",
   "pygments_lexer": "ipython3",
   "version": "3.8.20"
  }
 },
 "nbformat": 4,
 "nbformat_minor": 5
}
